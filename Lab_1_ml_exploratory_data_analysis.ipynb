{
  "cells": [
    {
      "cell_type": "markdown",
      "metadata": {
        "id": "view-in-github",
        "colab_type": "text"
      },
      "source": [
        "<a href=\"https://colab.research.google.com/github/fardhys/learn-github/blob/main/Lab_1_ml_exploratory_data_analysis.ipynb\" target=\"_parent\"><img src=\"https://colab.research.google.com/assets/colab-badge.svg\" alt=\"Open In Colab\"/></a>"
      ]
    },
    {
      "cell_type": "markdown",
      "metadata": {
        "id": "nzh3zNvXEOOn"
      },
      "source": [
        "<font color=\"white\">.</font> | <font color=\"white\">.</font> | <font color=\"white\">.</font>\n",
        "-- | -- | --\n",
        "![NASA](http://www.nasa.gov/sites/all/themes/custom/nasatwo/images/nasa-logo.svg) | <h1><font size=\"+3\">ASTG Python Courses</font></h1> | ![NASA](https://www.nccs.nasa.gov/sites/default/files/NCCS_Logo_0.png)\n",
        "\n",
        "---\n",
        "\n",
        "<center>\n",
        "    <h1><font color=\"red\">Introduction to Exploratory Data Analysis</font></h1>\n",
        "</center>"
      ]
    },
    {
      "cell_type": "markdown",
      "metadata": {
        "id": "PXWgPKbjEOOs"
      },
      "source": [
        "## Useful Links\n",
        "\n",
        "- <a href=\"https://www.itl.nist.gov/div898/handbook/eda/eda.htm\"> Exploratory Data Analysis </a> (from NIST)\n",
        "- <a href=\"https://en.wikipedia.org/wiki/Exploratory_data_analysis\">Exploratory Data Analysis</a> (from Wikipedia)\n",
        "- <a href=\"https://www.edureka.co/blog/exploratory-data-analysis-in-python/\">The Why And How Of Exploratory Data Analysis In Python</a>\n",
        "- <a href=\"https://kite.com/blog/python/data-analysis-visualization-python/\"> Exploratory Data Analysis (EDA) and Data Visualization with Python</a>\n",
        "- <a href=\"https://datajournalism.com/read/handbook/one/understanding-data/using-data-visualization-to-find-insights-in-data\">Using Data Visualization to Find Insights in Data</a>\n"
      ]
    },
    {
      "cell_type": "markdown",
      "metadata": {
        "id": "eug2b9uVEOOt"
      },
      "source": [
        "## <font color=\"red\">What is Exploratory Data Analysis?</font>\n",
        "\n",
        "> Exploratory Data Analysis (EDA) is an attitude, a state of flexibility, a willingness to look for those things that we believe are not there, as well as those we believe to be there. -- John W. Tukey\n",
        "\n",
        "EDA is an approach to analyzing data sets to summarize their main characteristics, often with visual methods.\n",
        "- EDA is an important step to first understand the data (identify the trends and patterns within the data, detect outliers or anomalous events, find interesting relations among the variables, points of interesct, etc.) before using them for modeling, machine learning, etc.\n",
        "- By skipping this first exploratory step, data scientists might not be able to immediately understand key issues in the data or be able to guide deeper analysis in the right direction.\n",
        "- The gathering of information on the data are:\n",
        "    + To make sure the data is valid\n",
        "    + To verify that there are no obvious problems.\n",
        "- EDA employs a variety of techniques (mostly graphical) to:\n",
        "    1. Maximize insight into a data set\n",
        "    2. Uncover underlying structure\n",
        "    3. Extract important variables\n",
        "    4. Detect outliers and anomalies\n",
        "    5. Test underlying assumptions\n",
        "    6. Develop parsimonious models, and\n",
        "    7. Determine optimal factor settings.\n",
        "\n",
        "![FIG_AXES](https://blog.camelot-group.com/wp-content/uploads/2019/03/Picture2-580x330.png)\n",
        "Image Source: Frank Kienle"
      ]
    },
    {
      "cell_type": "markdown",
      "metadata": {
        "id": "_IdeCUTqEOOu"
      },
      "source": [
        "### <font color=\"blue\">Some Graphical Techniques in EDA</font>\n",
        "\n",
        "Graphical techniques employed in EDA are often quite simple, consisting of:\n",
        "\n",
        "- Plotting the raw data:\n",
        "     + <a href=\"https://www.itl.nist.gov/div898/handbook/eda/section3/runseqpl.htm\">Data traces</a>\n",
        "     + <a href=\"https://www.itl.nist.gov/div898/handbook/eda/section3/histogra.htm\">Histograms</a>\n",
        "     + <a href=\"https://www.itl.nist.gov/div898/handbook/eda/section3/bihistog.htm\">Bihistograms</a>\n",
        "     + <a href=\"https://www.itl.nist.gov/div898/handbook/eda/section3/probplot.htm\">Probability plots</a>\n",
        "     + <a href=\"https://www.itl.nist.gov/div898/handbook/eda/section3/lagplot.htm\">Lag plots</a>\n",
        "     + <a href=\"https://www.itl.nist.gov/div898/handbook/eda/section3/blockplo.htm\">Block plots</a>\n",
        "     + <a href=\"https://www.itl.nist.gov/div898/handbook/eda/section3/youdplot.htm\">Youden plots</a>.\n",
        "- Plotting simple statistics\n",
        "     + <a href=\"https://www.itl.nist.gov/div898/handbook/eda/section3/meanplot.htm\">Mean plots</a>\n",
        "     + <a href=\"https://www.itl.nist.gov/div898/handbook/eda/section3/sdplot.htm\">Standard deviation plots</a>\n",
        "     + <a href=\"https://www.itl.nist.gov/div898/handbook/eda/section3/boxplot.htm\">Box plots</a>\n",
        "     + Main effects plots of the raw data.\n",
        "- Positioning such plots so as to maximize our natural pattern-recognition abilities, such as using multiple plots per page."
      ]
    },
    {
      "cell_type": "markdown",
      "metadata": {
        "id": "UbMKlS9oEOOu"
      },
      "source": [
        "### <font color=\"blue\">Basic Processes of Finding Insights in Data</font>\n",
        "\n",
        "![fig_insights](https://s3.eu-central-1.amazonaws.com/datajournalismcom/handbooks/Data-Handbook-1/using-data-visualization-to-find-insights-in-data/05-BB.png)\n",
        "Image Source: Gregor Aisch\n",
        "\n",
        "1. **Visualize the Data**\n",
        "     + Use tools to have a graphical representation of the data.\n",
        "2. **Analyze and Interpret**\n",
        "     + What can you learn from the different visualizations?\n",
        "3. **Transform the Data**:\n",
        "     + Take care of missing values\n",
        "     + Deal with outliers\n",
        "     + Do you need to perform any dimension reduction?\n",
        "4. **Document**\n",
        "     + Keep track of all the generated plots and statistics in order to better understand their meanings and their unsefulness in finding insights in the available data.\n"
      ]
    },
    {
      "cell_type": "markdown",
      "metadata": {
        "id": "G5B2mjOdEOOv"
      },
      "source": [
        "### <font color=\"blue\">Understanding the Data Types</font>\n",
        "\n",
        "There are two basic types of structured data:\n",
        "\n",
        "* **Numeric Data**\n",
        "    - Continuous: Data can take on any value in an interval.\n",
        "    - Discrete: Data can take only integer values, such as counts.\n",
        "* **Categorical Data**\n",
        "    - Nominal: Numbers are used simply to distinguish between different properties (for instance the marital status or the state name (Arizona, California, etc.). The numbers can only be compared but cannot be ordered.\n",
        "    - Ordinal: Numerical values serve to place categories in some meaningful order (for example, Customer Satisfaction Scales)\n",
        "    \n",
        "![fig_data](https://bioquest.org/numberscount/wp-content/blogs.dir//files//2010/01/Screen-shot-2010-01-04-at-1.12.19-PM.png)\n",
        "Image Source: bioquest.org\n",
        "    \n",
        "The data type you have will determine the EDA graphical method to use."
      ]
    },
    {
      "cell_type": "markdown",
      "metadata": {
        "id": "dNhL1nbiEOOv"
      },
      "source": [
        "## <font color=\"red\">Goals</font>\n",
        "\n",
        "We want to use Pandas and Seaborn to:\n",
        "\n",
        "- Explore a numerical dataset and create visual distributions\n",
        "- Identify and eliminate outliers (if any)\n",
        "- Uncover correlations between two datasets\n"
      ]
    },
    {
      "cell_type": "code",
      "execution_count": 1,
      "metadata": {
        "id": "cJDlLmn9EOOw"
      },
      "outputs": [],
      "source": [
        "%matplotlib inline\n",
        "import numpy as np\n",
        "import pandas as pd\n",
        "import scipy.stats as stats\n",
        "import matplotlib.pyplot as plt\n",
        "import seaborn as sns"
      ]
    },
    {
      "cell_type": "markdown",
      "metadata": {
        "id": "g1mFx63rEOOx"
      },
      "source": [
        "## <font color=\"red\">Obtain the Dataset</font>\n",
        "- We use the [Boston dataset](https://www.kaggle.com/code/prasadperera/the-boston-housing-dataset).\n",
        "- Contains information about different houses in Boston.\n",
        "- There are 506 samples and 13 feature variables in this dataset."
      ]
    },
    {
      "cell_type": "markdown",
      "metadata": {
        "id": "NCbjsmpPEOOx"
      },
      "source": [
        "#### Attribute Information:\n",
        "| Acronym | Description |\n",
        "| --- | --- |\n",
        "| **CRIM** |    Per capita crime rate by town |\n",
        "|**ZN** |   Proportion of residential land zoned for lots over 25,000 sq.ft. |\n",
        "| **INDUS** | Proportion of non-retail business acres per town |\n",
        "| **CHAS** |  Charles River dummy variable (= 1 if tract bounds river; 0 otherwise) |\n",
        "| **NOX** |  Nitric oxides concentration (parts per 10 million) |\n",
        "| **RM** |    Average number of rooms per dwelling |\n",
        "| **AGE** |   roportion of owner-occupied units built prior to 1940 |\n",
        "| **DIS** |  weighted distances to five Boston employment centres |\n",
        "| **RAD** |   index of accessibility to radial highways |\n",
        "| **TAX** |  full-value property-tax rate per \\$10,000 |\n",
        "| **PTRATIO** |  pupil-teacher ratio by town |\n",
        "| **B** |       1000(Bk - 0.63)^2 where Bk is the proportion of blacks by town |\n",
        "| **LSTAT** |    % lower status of the population |\n",
        "| **MEDV** |    Median value of owner-occupied homes in $1000's |"
      ]
    },
    {
      "cell_type": "markdown",
      "metadata": {
        "id": "eyl4-nDuEOOy"
      },
      "source": [
        "#### Get the Dataset"
      ]
    },
    {
      "cell_type": "code",
      "execution_count": 2,
      "metadata": {
        "id": "CvTv7KKPEOOy",
        "colab": {
          "base_uri": "https://localhost:8080/",
          "height": 1000
        },
        "outputId": "dcc06419-229a-480c-d3b5-111eb6b758da"
      },
      "outputs": [
        {
          "output_type": "error",
          "ename": "ImportError",
          "evalue": "\n`load_boston` has been removed from scikit-learn since version 1.2.\n\nThe Boston housing prices dataset has an ethical problem: as\ninvestigated in [1], the authors of this dataset engineered a\nnon-invertible variable \"B\" assuming that racial self-segregation had a\npositive impact on house prices [2]. Furthermore the goal of the\nresearch that led to the creation of this dataset was to study the\nimpact of air quality but it did not give adequate demonstration of the\nvalidity of this assumption.\n\nThe scikit-learn maintainers therefore strongly discourage the use of\nthis dataset unless the purpose of the code is to study and educate\nabout ethical issues in data science and machine learning.\n\nIn this special case, you can fetch the dataset from the original\nsource::\n\n    import pandas as pd\n    import numpy as np\n\n    data_url = \"http://lib.stat.cmu.edu/datasets/boston\"\n    raw_df = pd.read_csv(data_url, sep=\"\\s+\", skiprows=22, header=None)\n    data = np.hstack([raw_df.values[::2, :], raw_df.values[1::2, :2]])\n    target = raw_df.values[1::2, 2]\n\nAlternative datasets include the California housing dataset and the\nAmes housing dataset. You can load the datasets as follows::\n\n    from sklearn.datasets import fetch_california_housing\n    housing = fetch_california_housing()\n\nfor the California housing dataset and::\n\n    from sklearn.datasets import fetch_openml\n    housing = fetch_openml(name=\"house_prices\", as_frame=True)\n\nfor the Ames housing dataset.\n\n[1] M Carlisle.\n\"Racist data destruction?\"\n<https://medium.com/@docintangible/racist-data-destruction-113e3eff54a8>\n\n[2] Harrison Jr, David, and Daniel L. Rubinfeld.\n\"Hedonic housing prices and the demand for clean air.\"\nJournal of environmental economics and management 5.1 (1978): 81-102.\n<https://www.researchgate.net/publication/4974606_Hedonic_housing_prices_and_the_demand_for_clean_air>\n",
          "traceback": [
            "\u001b[0;31m---------------------------------------------------------------------------\u001b[0m",
            "\u001b[0;31mImportError\u001b[0m                               Traceback (most recent call last)",
            "\u001b[0;32m<ipython-input-2-719855061483>\u001b[0m in \u001b[0;36m<cell line: 1>\u001b[0;34m()\u001b[0m\n\u001b[0;32m----> 1\u001b[0;31m \u001b[0;32mfrom\u001b[0m \u001b[0msklearn\u001b[0m\u001b[0;34m.\u001b[0m\u001b[0mdatasets\u001b[0m \u001b[0;32mimport\u001b[0m \u001b[0mload_boston\u001b[0m\u001b[0;34m\u001b[0m\u001b[0;34m\u001b[0m\u001b[0m\n\u001b[0m\u001b[1;32m      2\u001b[0m \u001b[0mboston_dst\u001b[0m \u001b[0;34m=\u001b[0m \u001b[0mload_boston\u001b[0m\u001b[0;34m(\u001b[0m\u001b[0;34m)\u001b[0m\u001b[0;34m\u001b[0m\u001b[0;34m\u001b[0m\u001b[0m\n",
            "\u001b[0;32m/usr/local/lib/python3.10/dist-packages/sklearn/datasets/__init__.py\u001b[0m in \u001b[0;36m__getattr__\u001b[0;34m(name)\u001b[0m\n\u001b[1;32m    154\u001b[0m             \"\"\"\n\u001b[1;32m    155\u001b[0m         )\n\u001b[0;32m--> 156\u001b[0;31m         \u001b[0;32mraise\u001b[0m \u001b[0mImportError\u001b[0m\u001b[0;34m(\u001b[0m\u001b[0mmsg\u001b[0m\u001b[0;34m)\u001b[0m\u001b[0;34m\u001b[0m\u001b[0;34m\u001b[0m\u001b[0m\n\u001b[0m\u001b[1;32m    157\u001b[0m     \u001b[0;32mtry\u001b[0m\u001b[0;34m:\u001b[0m\u001b[0;34m\u001b[0m\u001b[0;34m\u001b[0m\u001b[0m\n\u001b[1;32m    158\u001b[0m         \u001b[0;32mreturn\u001b[0m \u001b[0mglobals\u001b[0m\u001b[0;34m(\u001b[0m\u001b[0;34m)\u001b[0m\u001b[0;34m[\u001b[0m\u001b[0mname\u001b[0m\u001b[0;34m]\u001b[0m\u001b[0;34m\u001b[0m\u001b[0;34m\u001b[0m\u001b[0m\n",
            "\u001b[0;31mImportError\u001b[0m: \n`load_boston` has been removed from scikit-learn since version 1.2.\n\nThe Boston housing prices dataset has an ethical problem: as\ninvestigated in [1], the authors of this dataset engineered a\nnon-invertible variable \"B\" assuming that racial self-segregation had a\npositive impact on house prices [2]. Furthermore the goal of the\nresearch that led to the creation of this dataset was to study the\nimpact of air quality but it did not give adequate demonstration of the\nvalidity of this assumption.\n\nThe scikit-learn maintainers therefore strongly discourage the use of\nthis dataset unless the purpose of the code is to study and educate\nabout ethical issues in data science and machine learning.\n\nIn this special case, you can fetch the dataset from the original\nsource::\n\n    import pandas as pd\n    import numpy as np\n\n    data_url = \"http://lib.stat.cmu.edu/datasets/boston\"\n    raw_df = pd.read_csv(data_url, sep=\"\\s+\", skiprows=22, header=None)\n    data = np.hstack([raw_df.values[::2, :], raw_df.values[1::2, :2]])\n    target = raw_df.values[1::2, 2]\n\nAlternative datasets include the California housing dataset and the\nAmes housing dataset. You can load the datasets as follows::\n\n    from sklearn.datasets import fetch_california_housing\n    housing = fetch_california_housing()\n\nfor the California housing dataset and::\n\n    from sklearn.datasets import fetch_openml\n    housing = fetch_openml(name=\"house_prices\", as_frame=True)\n\nfor the Ames housing dataset.\n\n[1] M Carlisle.\n\"Racist data destruction?\"\n<https://medium.com/@docintangible/racist-data-destruction-113e3eff54a8>\n\n[2] Harrison Jr, David, and Daniel L. Rubinfeld.\n\"Hedonic housing prices and the demand for clean air.\"\nJournal of environmental economics and management 5.1 (1978): 81-102.\n<https://www.researchgate.net/publication/4974606_Hedonic_housing_prices_and_the_demand_for_clean_air>\n",
            "",
            "\u001b[0;31m---------------------------------------------------------------------------\u001b[0;32m\nNOTE: If your import is failing due to a missing package, you can\nmanually install dependencies using either !pip or !apt.\n\nTo view examples of installing some common dependencies, click the\n\"Open Examples\" button below.\n\u001b[0;31m---------------------------------------------------------------------------\u001b[0m\n"
          ],
          "errorDetails": {
            "actions": [
              {
                "action": "open_url",
                "actionText": "Open Examples",
                "url": "/notebooks/snippets/importing_libraries.ipynb"
              }
            ]
          }
        }
      ],
      "source": [
        "from sklearn.datasets import load_boston\n",
        "boston_dst = load_boston()"
      ]
    },
    {
      "cell_type": "code",
      "execution_count": null,
      "metadata": {
        "id": "CiwzE0-xEOOy"
      },
      "outputs": [],
      "source": [
        "print(\"Type of the dataset: \", type(boston_dst))"
      ]
    },
    {
      "cell_type": "markdown",
      "metadata": {
        "id": "1YjoSJ_dEOOy"
      },
      "source": [
        "#### Basic Features of the Dataset"
      ]
    },
    {
      "cell_type": "code",
      "execution_count": null,
      "metadata": {
        "id": "PQ7JrOgREOOz"
      },
      "outputs": [],
      "source": [
        "print(\"Keys: \", boston_dst.keys())"
      ]
    },
    {
      "cell_type": "markdown",
      "metadata": {
        "id": "_LLoVxaWEOOz"
      },
      "source": [
        "| Dataset Key | Description |\n",
        "| --- | --- |\n",
        "| **data** | the data to learn |\n",
        "| **target** | the regression target |\n",
        "| **feature_names** | the meaning of the labels |\n",
        "| **DESCR** | the full description of the dataset |\n",
        "| **filename** | csv file contains the data |"
      ]
    },
    {
      "cell_type": "markdown",
      "metadata": {
        "id": "2FsEIawYEOOz"
      },
      "source": [
        "Get the file name (full path):"
      ]
    },
    {
      "cell_type": "code",
      "execution_count": null,
      "metadata": {
        "id": "OrlMBZbzEOOz"
      },
      "outputs": [],
      "source": [
        "print(boston_dst.filename)"
      ]
    },
    {
      "cell_type": "markdown",
      "metadata": {
        "id": "eThnSwUeEOO0"
      },
      "source": [
        "Description of the dataset:"
      ]
    },
    {
      "cell_type": "code",
      "execution_count": null,
      "metadata": {
        "id": "O0rDr8DEEOO0"
      },
      "outputs": [],
      "source": [
        "print(boston_dst.DESCR)"
      ]
    },
    {
      "cell_type": "markdown",
      "metadata": {
        "id": "Aa0kPI54EOO0"
      },
      "source": [
        "Data information:"
      ]
    },
    {
      "cell_type": "code",
      "execution_count": null,
      "metadata": {
        "id": "oULMP1akEOO0"
      },
      "outputs": [],
      "source": [
        "print(\"Type  of data: \", type(boston_dst.data))\n",
        "print(\"Shape of data: \", boston_dst.data.shape)"
      ]
    },
    {
      "cell_type": "markdown",
      "metadata": {
        "id": "YrD0GZX1EOO0"
      },
      "source": [
        "Feature names:"
      ]
    },
    {
      "cell_type": "code",
      "execution_count": null,
      "metadata": {
        "id": "B9n2qhHgEOO0"
      },
      "outputs": [],
      "source": [
        "print(\"Feature Names: \", boston_dst.feature_names)"
      ]
    },
    {
      "cell_type": "markdown",
      "metadata": {
        "id": "IcAScrIGEOO1"
      },
      "source": [
        "Information on the array containing home prices:"
      ]
    },
    {
      "cell_type": "code",
      "execution_count": null,
      "metadata": {
        "id": "2PIgCC3JEOO1"
      },
      "outputs": [],
      "source": [
        "print(\"Type  of target: \", type(boston_dst.target))\n",
        "print(\"Shape of target: \", boston_dst.target.shape)"
      ]
    },
    {
      "cell_type": "markdown",
      "metadata": {
        "id": "ppQYy_TjEOO1"
      },
      "source": [
        "#### Pass the Data into a Pandas Dataframe"
      ]
    },
    {
      "cell_type": "markdown",
      "metadata": {
        "id": "Q44g3MToEOO1"
      },
      "source": [
        "Note that `boston_dst.data` is a Numpy array and can be used to create a Pandas dataframe."
      ]
    },
    {
      "cell_type": "code",
      "execution_count": null,
      "metadata": {
        "id": "D6fnAV1SEOO1"
      },
      "outputs": [],
      "source": [
        "boston_pd = pd.DataFrame(boston_dst.data)\n",
        "boston_pd.head()"
      ]
    },
    {
      "cell_type": "markdown",
      "metadata": {
        "id": "0_I_n8pzEOO1"
      },
      "source": [
        "#### Relabel the columns using the Boston dataset feature names"
      ]
    },
    {
      "cell_type": "code",
      "execution_count": null,
      "metadata": {
        "id": "vw1rny0rEOO2"
      },
      "outputs": [],
      "source": [
        "boston_pd.columns = boston_dst.feature_names\n",
        "boston_pd.head()"
      ]
    },
    {
      "cell_type": "markdown",
      "metadata": {
        "id": "qIv6OFlpEOO4"
      },
      "source": [
        "#### Add home prices to the Pandas dataframe"
      ]
    },
    {
      "cell_type": "code",
      "execution_count": null,
      "metadata": {
        "id": "WobB_Zq8EOO4"
      },
      "outputs": [],
      "source": [
        "boston_pd['PRICE'] = boston_dst.target\n",
        "boston_pd.head()"
      ]
    },
    {
      "cell_type": "markdown",
      "metadata": {
        "id": "DbudwQUuEOO4"
      },
      "source": [
        "## <font color=\"red\">Exploratory Data Analysis</font>\n",
        "\n",
        "- Important step before training the model.\n",
        "- We use statistical analysis and visualizations to understand the relationship of the target variable with other features.\n",
        "\n",
        "![fig_EDA](https://cdn-images-1.medium.com/max/1200/1*3sr-fMg4S_yEncGsIjyG9A.png)"
      ]
    },
    {
      "cell_type": "markdown",
      "metadata": {
        "id": "XAf8aJkwEOO4"
      },
      "source": [
        "### <font color=\"blue\">STEP 1: Description of Data</font>"
      ]
    },
    {
      "cell_type": "markdown",
      "metadata": {
        "id": "CwOARAypEOO4"
      },
      "source": [
        "#### Quick Overview of the Data"
      ]
    },
    {
      "cell_type": "code",
      "execution_count": null,
      "metadata": {
        "id": "gIG_bdlCEOO4"
      },
      "outputs": [],
      "source": [
        "boston_pd"
      ]
    },
    {
      "cell_type": "markdown",
      "metadata": {
        "id": "TZbJOJwNEOO5"
      },
      "source": [
        "#### Descriptive Statistics\n",
        "- A helpful way to understand characteristics of the data and to get a quick summary of it.\n",
        "- Provide basic statistical computations on the dataset like extreme values, count of data points, maximum value, minimum value, mean, standard deviation, etc.\n",
        "- Any missing value or NaN value is automatically skipped."
      ]
    },
    {
      "cell_type": "code",
      "execution_count": null,
      "metadata": {
        "id": "twoJatCWEOO5"
      },
      "outputs": [],
      "source": [
        "boston_pd.describe(include='all').transpose()"
      ]
    },
    {
      "cell_type": "markdown",
      "metadata": {
        "id": "-akwl54KEOO5"
      },
      "source": [
        "We can use the method `value_counts` to get count of each category in a categorical attributed series of values."
      ]
    },
    {
      "cell_type": "code",
      "execution_count": null,
      "metadata": {
        "id": "EMIfj3vtEOO5"
      },
      "outputs": [],
      "source": [
        "boston_pd.PRICE.value_counts()"
      ]
    },
    {
      "cell_type": "markdown",
      "metadata": {
        "id": "GWmhBVC7EOO5"
      },
      "source": [
        "We can obtain the number of unique elements in each column."
      ]
    },
    {
      "cell_type": "code",
      "execution_count": null,
      "metadata": {
        "id": "Fdr5XmksEOO6"
      },
      "outputs": [],
      "source": [
        "print(boston_pd.nunique())"
      ]
    },
    {
      "cell_type": "markdown",
      "metadata": {
        "id": "ly4vmj7OEOO6"
      },
      "source": [
        "### <font color=\"blue\">STEP 2: Dealing with Missing Data </font>\n",
        "\n",
        "- Missing values in the dataset refer to those fields which are empty or no values assigned to them, these usually occur due to data entry errors, faults that occur with data collection processes.\n",
        "- They need to be handled carefully because they reduce the quality of the data.\n",
        "- They can lead to wrong prediction or classification and can also cause a high bias for any given model being used.\n",
        "- It is a good practice to see if there are any missing values in the data.\n",
        "- The way to handle missing values depends on the nature of our data and the missing values. Techniques may include:\n",
        "     + Drop NULL or missing values\n",
        "     + Fill Missing Values\n",
        "     + Predict Missing values with an ML Algorithm"
      ]
    },
    {
      "cell_type": "markdown",
      "metadata": {
        "id": "iQ6hTKSTEOO6"
      },
      "source": [
        "**Display Rows with Missing Data**"
      ]
    },
    {
      "cell_type": "code",
      "execution_count": null,
      "metadata": {
        "id": "ld8fzwsdEOO6"
      },
      "outputs": [],
      "source": [
        "boston_pd[boston_pd.isnull().any(axis=1)]"
      ]
    },
    {
      "cell_type": "markdown",
      "metadata": {
        "id": "N7m100U1EOO6"
      },
      "source": [
        "Here `axis=1` refers to the columns while the `any()` function literally tells it to display any rows consisting of at least 1 missing value"
      ]
    },
    {
      "cell_type": "markdown",
      "metadata": {
        "id": "MRdRJFIMEOO7"
      },
      "source": [
        "**Count the number of missing values for each column**"
      ]
    },
    {
      "cell_type": "code",
      "execution_count": null,
      "metadata": {
        "id": "OtNOz-2fEOO7"
      },
      "outputs": [],
      "source": [
        "boston_pd.isnull().sum()"
      ]
    },
    {
      "cell_type": "code",
      "execution_count": null,
      "metadata": {
        "id": "aEYEo8LkEOO7"
      },
      "outputs": [],
      "source": [
        "total = boston_pd.isnull().sum().sort_values(ascending=False)\n",
        "percent = (boston_pd.isnull().sum()/boston_pd.isnull().count()).sort_values(ascending=False)\n",
        "missing_data = pd.concat([total, percent], axis=1,\n",
        "                         keys=['Total', 'Percent'])\n",
        "missing_data.head(20)"
      ]
    },
    {
      "cell_type": "markdown",
      "metadata": {
        "id": "bcGlD2hhEOO7"
      },
      "source": [
        "We can also count the number of non-missing data:"
      ]
    },
    {
      "cell_type": "code",
      "execution_count": null,
      "metadata": {
        "id": "XHnVqyH1EOO7"
      },
      "outputs": [],
      "source": [
        "boston_pd.notna().sum()"
      ]
    },
    {
      "cell_type": "markdown",
      "metadata": {
        "id": "yCjIIzzLEOO8"
      },
      "source": [
        "#### Drop NULL or Missing Values\n",
        "- Fastest and easiest step to handle missing values.\n",
        "- Not generally advised for it can deteriorate the quality of the model as it reduces sample size because it works by deleting all other observations where any of the variables is missing."
      ]
    },
    {
      "cell_type": "code",
      "execution_count": null,
      "metadata": {
        "id": "nJy7HqTrEOO8"
      },
      "outputs": [],
      "source": [
        "boston_pd.shape"
      ]
    },
    {
      "cell_type": "code",
      "execution_count": null,
      "metadata": {
        "id": "bbJ0GozJEOO8"
      },
      "outputs": [],
      "source": [
        "boston_pd = boston_pd.dropna()"
      ]
    },
    {
      "cell_type": "code",
      "execution_count": null,
      "metadata": {
        "id": "eX2eWkuaEOO8"
      },
      "outputs": [],
      "source": [
        "boston_pd.shape"
      ]
    },
    {
      "cell_type": "code",
      "execution_count": null,
      "metadata": {
        "id": "cullfYG4EOO8"
      },
      "outputs": [],
      "source": [
        "boston_pd = boston_pd.drop((missing_data[missing_data['Total'] > 1]).index, 1)\n",
        "boston_pd = boston_pd.drop(boston_pd.loc[boston_pd['CRIM'].isnull()].index)\n",
        "boston_pd.isnull().sum().max()"
      ]
    },
    {
      "cell_type": "markdown",
      "metadata": {
        "id": "WqV6nx9YEOO8"
      },
      "source": [
        "#### Fill Missing Values\n",
        "- Most common method of handling missing values.\n",
        "- Missing values are replaced with a test statistic like mean, median or mode of the particular feature the missing value belongs to."
      ]
    },
    {
      "cell_type": "markdown",
      "metadata": {
        "id": "1BLT91HHEOO8"
      },
      "source": [
        "Suppose we have a missing value of age in the boston data set. Then the below code will fill the missing value with the 35."
      ]
    },
    {
      "cell_type": "code",
      "execution_count": null,
      "metadata": {
        "id": "U0TfZ3BIEOO9"
      },
      "outputs": [],
      "source": [
        "boston_pd.AGE = boston_pd.AGE.fillna(35)"
      ]
    },
    {
      "cell_type": "code",
      "execution_count": null,
      "metadata": {
        "id": "pfVUUspJEOO9"
      },
      "outputs": [],
      "source": [
        "boston_pd.shape"
      ]
    },
    {
      "cell_type": "markdown",
      "metadata": {
        "id": "-Icn6ev5EOO9"
      },
      "source": [
        "We can fill missig values with the mean value:"
      ]
    },
    {
      "cell_type": "code",
      "execution_count": null,
      "metadata": {
        "id": "LEpejO_uEOO9"
      },
      "outputs": [],
      "source": [
        "boston_pd.fillna(boston_pd.mean())"
      ]
    },
    {
      "cell_type": "markdown",
      "metadata": {
        "id": "uJKLGHtNEOO9"
      },
      "source": [
        "#### Predict the Missing Values with a ML Algorithm\n",
        "- Best and most efficient methods for handling missing data.\n",
        "- Depending on the class of data that is missing, one can either use a regression or classification model to predict missing data."
      ]
    },
    {
      "cell_type": "markdown",
      "metadata": {
        "id": "k41ET4KjEOO9"
      },
      "source": [
        "### <font color=\"blue\">STEP 3: Handling Outliers </font>\n",
        "\n",
        "- An outlier is something which is separate or different from the crowd.\n",
        "- Outliers can be a result of a mistake during data collection or it can be just an indication of variance in your data.\n",
        "- It is wise to be correct or remove any outlier from the data before calculating summary statistics or deriving insights from the data.\n",
        "- Failing to properly handle outliers might lead to incorrect analysis.\n",
        "- For detecting and handling outliers, we can consider the following techniques:\n",
        "     + Scatterplot\n",
        "     + BoxPlot\n",
        "     + IQR (Inter-Quartile Range)"
      ]
    },
    {
      "cell_type": "markdown",
      "metadata": {
        "id": "_gCoeTOwEOO-"
      },
      "source": [
        "#### BoxPlot\n",
        "- Pictorial representation of distribution of data which shows extreme values, median and quartiles.\n",
        "- Boxplots show robust measures of location and spread as well as providing information about symmetry and outliers.\n",
        "    + The range of the data provides us with a measure of spread and is equal to a value between the smallest data point (min) and the largest one (Max)\n",
        "    + The interquartile range (IQR), which is the range covered by the middle 50% of the data.\n",
        "    + IQR = Q3 – Q1, the difference between the third and first quartiles. The first quartile (Q1) is the value such that one quarter (25%) of the data points fall below it, or the median of the bottom half of the data. The third quartile is the value such that three quarters (75%) of the data points fall below it, or the median of the top half of the data.\n",
        "    + The IQR can be used to detect outliers using the 1.5(IQR) criteria. Outliers are observations that fall below Q1 – 1.5(IQR) or above Q3 + 1.5(IQR)."
      ]
    },
    {
      "cell_type": "code",
      "execution_count": null,
      "metadata": {
        "id": "Iaha1zItEOO-"
      },
      "outputs": [],
      "source": [
        "plt.boxplot(list(boston_pd.PRICE));\n",
        "plt.show();"
      ]
    },
    {
      "cell_type": "code",
      "execution_count": null,
      "metadata": {
        "id": "EXbEJ7OGEOO-"
      },
      "outputs": [],
      "source": [
        "fig,  ax = plt.subplots(len(list(boston_pd.columns)), figsize=(8,40))\n",
        "\n",
        "for i, feature_name in enumerate(list(boston_pd.columns)):\n",
        "    sns.boxplot(y=boston_pd[feature_name], ax=ax[i]);\n",
        "    ax[i].set_xlabel(feature_name, fontsize=8);\n",
        "    #ax[i].set_title(\"Box plot {} \".format(feature_name), fontsize=8);\n",
        "\n",
        "plt.show();"
      ]
    },
    {
      "cell_type": "markdown",
      "metadata": {
        "id": "cC5vVw_tEOO-"
      },
      "source": [
        "#### Scatterplot\n",
        "- A mathematical diagram using Cartesian coordinates to display values for two variables for a set of data.\n",
        "- The data are displayed as a collection of points, each having the value of one variable determining the position on the horizontal axis and the value of the other variable determining the position on the vertical axis.\n",
        "- **The points that are far from the population can be termed as an outlier.**"
      ]
    },
    {
      "cell_type": "code",
      "execution_count": null,
      "metadata": {
        "id": "JkblTXrZEOO_"
      },
      "outputs": [],
      "source": [
        "for feature_name in boston_dst.feature_names:\n",
        "    plt.figure(figsize=(5, 4));\n",
        "    plt.scatter(boston_pd[feature_name], boston_pd['PRICE']);\n",
        "    plt.ylabel('Price', size=12);\n",
        "    plt.xlabel(feature_name, size=12);\n",
        "\n",
        "plt.show();"
      ]
    },
    {
      "cell_type": "markdown",
      "metadata": {
        "id": "InaN25bPEOO_"
      },
      "source": [
        "\n",
        "- The prices increase as the value of RM increases linearly. There are few outliers and the data seems to be capped at 50.\n",
        "- The prices tend to decrease with an increase in LSTAT. Though it doesn’t look to be following exactly a linear line.\n",
        "- We can use the **seaborn** `lmplot` function to clearly see the relationship between **RM** and **PRICE**."
      ]
    },
    {
      "cell_type": "code",
      "execution_count": null,
      "metadata": {
        "id": "Yf75zAxiEOO_"
      },
      "outputs": [],
      "source": [
        "sns.lmplot(x = 'RM', y = 'PRICE', data = boston_pd)"
      ]
    },
    {
      "cell_type": "markdown",
      "metadata": {
        "id": "D78BB2kPEOO_"
      },
      "source": [
        "#### IQR\n",
        "- The interquartile range (IQR) is a measure of statistical dispersion, being equal to the difference between 75th and 25th percentiles, or between upper and lower quartiles.\n",
        "- **IQR = Q3 - Q1**"
      ]
    },
    {
      "cell_type": "code",
      "execution_count": null,
      "metadata": {
        "id": "wUjihC70EOO_"
      },
      "outputs": [],
      "source": [
        "Q1 = boston_pd.quantile(0.25)\n",
        "Q3 = boston_pd.quantile(0.75)\n",
        "IQR = Q3 - Q1\n",
        "print(IQR)"
      ]
    },
    {
      "cell_type": "markdown",
      "metadata": {
        "id": "O9iETb4rEOPA"
      },
      "source": [
        "Once we have IQR scores below code will remove all the outliers in our dataset."
      ]
    },
    {
      "cell_type": "code",
      "execution_count": null,
      "metadata": {
        "id": "Ljt-73FCEOPA"
      },
      "outputs": [],
      "source": [
        "boston_outlier_IQR = boston_pd[~((boston_pd < (Q1 - 1.5 * IQR)) |\n",
        "                                 (boston_pd > (Q3 + 1.5 * IQR))).any(axis=1)]\n",
        "boston_outlier_IQR.shape"
      ]
    },
    {
      "cell_type": "markdown",
      "metadata": {
        "id": "0Hw_YpjZEOPA"
      },
      "source": [
        "### <font color=\"blue\">Understanding Relationships and New Insights Through Plots"
      ]
    },
    {
      "cell_type": "markdown",
      "metadata": {
        "id": "-N2UK9uOEOPA"
      },
      "source": [
        "#### Histogram\n",
        "- Great tool for quickly assessing a probability distribution that is easy for interpretation."
      ]
    },
    {
      "cell_type": "code",
      "execution_count": null,
      "metadata": {
        "id": "t35dwojhEOPA"
      },
      "outputs": [],
      "source": [
        "plt.figure(figsize=(8, 6));\n",
        "plt.hist(boston_pd['PRICE']);\n",
        "plt.title('Boston Housing Prices and Count Histogram');\n",
        "plt.xlabel('price ($1000s)');\n",
        "plt.ylabel('count');\n",
        "plt.show();"
      ]
    },
    {
      "cell_type": "code",
      "execution_count": null,
      "metadata": {
        "id": "KITFq3YkEOPA"
      },
      "outputs": [],
      "source": [
        "from scipy.stats import norm\n",
        "sns.distplot(boston_pd['PRICE'], fit=stats.norm);\n",
        "plt.figure(figsize=(8, 6));\n",
        "res = stats.probplot(boston_pd['PRICE'], plot=plt);"
      ]
    },
    {
      "cell_type": "markdown",
      "metadata": {
        "id": "CeIN2-s1EOPB"
      },
      "source": [
        "From the above output we can see that the values of PRICE is normally distributed with some of the outliers."
      ]
    },
    {
      "cell_type": "markdown",
      "metadata": {
        "id": "L3XPx2IAEOPB"
      },
      "source": [
        "Plot (histograms and the estimated PDF) the univariate distribution of the columns."
      ]
    },
    {
      "cell_type": "code",
      "execution_count": null,
      "metadata": {
        "id": "P7bYwv1PEOPB"
      },
      "outputs": [],
      "source": [
        "fig,  ax = plt.subplots(len(list(boston_pd.columns)), figsize=(12,46))\n",
        "\n",
        "for i, feature_name in enumerate(list(boston_pd.columns)):\n",
        "    if (feature_name != 'CHAS'):\n",
        "       sns.distplot(boston_pd[feature_name], hist=True, ax=ax[i]);\n",
        "       ax[i].set_ylabel('Count', fontsize=8);\n",
        "       ax[i].set_xlabel(\" {}\".format(feature_name), fontsize=8);\n",
        "       #ax[i].set_title(\"Freq dist \"+feature_name, fontsize=8);\n",
        "\n",
        "plt.show();"
      ]
    },
    {
      "cell_type": "markdown",
      "metadata": {
        "id": "xu_pA6U4EOPB"
      },
      "source": [
        "The bivariate distribution plots help us to study the relationship between two variables by analyzing the scatter plot."
      ]
    },
    {
      "cell_type": "code",
      "execution_count": null,
      "metadata": {
        "id": "Ot7rSVkUEOPB"
      },
      "outputs": [],
      "source": [
        "sns.pairplot(boston_pd);"
      ]
    },
    {
      "cell_type": "markdown",
      "metadata": {
        "id": "EXkuIlnEEOPB"
      },
      "source": [
        "You can select a few features:"
      ]
    },
    {
      "cell_type": "code",
      "execution_count": null,
      "metadata": {
        "id": "YCO-DjM-EOPC"
      },
      "outputs": [],
      "source": [
        "n = 4\n",
        "for i in range(0, len(boston_pd.columns), n):\n",
        "    sns.pairplot(data=boston_pd,\n",
        "                x_vars=boston_pd.columns[i:i+n],\n",
        "                y_vars=['PRICE']);"
      ]
    },
    {
      "cell_type": "code",
      "execution_count": null,
      "metadata": {
        "id": "9OrPIo1tEOPC"
      },
      "outputs": [],
      "source": [
        "fig = plt.figure(figsize=(6,6)); # define plot area\n",
        "ax = fig.gca(); # define axis\n",
        "sns.set_style(\"whitegrid\");\n",
        "sns.kdeplot(boston_pd[['RM', 'PRICE']], ax = ax, cmap=\"Blues_d\");\n",
        "ax.set_title('KDE plot of RM and PRICE'); # Give the plot a main title\n",
        "ax.set_xlabel('RM');  # Set text for the x axis\n",
        "ax.set_ylabel('PRICE'); # Set text for y axis"
      ]
    },
    {
      "cell_type": "markdown",
      "metadata": {
        "id": "QVsKupcWEOPC"
      },
      "source": [
        "#### Heatmap: Two-Dimensional Graphical Representation\n",
        "- Represent the individual values that are contained in a matrix as colors.\n",
        "- Create a correlation matrix that measures the linear relationships between the variables.\n",
        "- The pairs which are highly correlated represent the same variance of the dataset thus we can further analyze them to understand which attribute among the pairs are most significant for building the model.\n",
        "- A number on the map indicates a strong inverse relationship, no relationship, and a strong direct relationship, respectively."
      ]
    },
    {
      "cell_type": "code",
      "execution_count": null,
      "metadata": {
        "id": "uTima4xGEOPC"
      },
      "outputs": [],
      "source": [
        "plt.figure(figsize=(12, 9));\n",
        "correlation_matrix = boston_pd.corr().round(2);\n",
        "sns.heatmap(correlation_matrix, cmap=\"YlGnBu\", annot=True);"
      ]
    },
    {
      "cell_type": "markdown",
      "metadata": {
        "id": "Q6XaVONmEOPC"
      },
      "source": [
        "You may choose to select only correlations that verify specific conditions:"
      ]
    },
    {
      "cell_type": "code",
      "execution_count": null,
      "metadata": {
        "id": "XUZvoKXbEOPC"
      },
      "outputs": [],
      "source": [
        "sns.heatmap(correlation_matrix[(correlation_matrix >= 0.5) | (correlation_matrix <= -0.4)],\n",
        "            cmap='viridis', vmax=1.0, vmin=-1.0, linewidths=0.1,\n",
        "            annot=True, annot_kws={\"size\": 8}, square=True);"
      ]
    },
    {
      "cell_type": "markdown",
      "metadata": {
        "id": "BleIYWrjEOPD"
      },
      "source": [
        "- **RM** has a strong positive correlation with **PRICE** (0.7) where as **LSTAThas** a high negative correlation with **PRICE** (-0.74).\n",
        "- The features **RAD**, **TAX** have a correlation of 0.91. These feature pairs are strongly correlated to each other. This can affect the model. Same goes for the features **DIS** and **AGE** which have a correlation of -0.75.\n",
        "- The predictor variables such as **CRIM**, **INDUS**, **NOX**, **Age**, **RAD**, **TAX**, **PTRATIO**, **LSTAT** have a negative correlation on the target. Increase of any of them leads to the decrease in the price of the housing.\n",
        "- The predictor variables such as **ZN**, **RM**, **DIS**, **B** have good positive correlation with the target. Increase in any of them leads to the increase in the price of the house."
      ]
    },
    {
      "cell_type": "markdown",
      "metadata": {
        "id": "26b6RGwDEOPD"
      },
      "source": [
        "**You can also calculate the correlation between individual features and PRICE:**"
      ]
    },
    {
      "cell_type": "code",
      "execution_count": null,
      "metadata": {
        "id": "1UJoZZzBEOPD"
      },
      "outputs": [],
      "source": [
        "import operator\n",
        "\n",
        "individual_features_df = []\n",
        "for i in range(0, len(boston_pd.columns) - 1): # -1 because the last column is PRICE\n",
        "    tmpDf = boston_pd[[boston_pd.columns[i], 'PRICE']]\n",
        "    #tmpDf = tmpDf[tmpDf[boston_pd.columns[i]] != 0] # remove values that are zero\n",
        "    individual_features_df.append(tmpDf)\n",
        "\n",
        "all_correlations = {feature.columns[0]: feature.corr()['PRICE'][0] for feature in individual_features_df}\n",
        "all_correlations = sorted(all_correlations.items(), key=operator.itemgetter(1))\n",
        "for (key, value) in all_correlations:\n",
        "    print(\"{:>15}: {:>15}\".format(key, value))"
      ]
    },
    {
      "cell_type": "markdown",
      "metadata": {
        "id": "JE3m3xzFEOPD"
      },
      "source": [
        "**You can select which feautures you might consider for your model:**"
      ]
    },
    {
      "cell_type": "code",
      "execution_count": null,
      "metadata": {
        "id": "nxPrOS-fEOPD"
      },
      "outputs": [],
      "source": [
        "golden_features_list = [key for key, value in all_correlations if abs(value) >= 0.5]\n",
        "n = len(golden_features_list)\n",
        "print(\"There is {} strongly correlated values with PRICE:\".format(n))\n",
        "for var in golden_features_list:\n",
        "    print(\"\\t {}\".format(var))"
      ]
    },
    {
      "cell_type": "markdown",
      "metadata": {
        "id": "GMfJTRdHEOPD"
      },
      "source": [
        "# <font color=\"red\">Use Pandas Profiling</font>\n",
        "- Simple and fast EDA of a Pandas dataframe\n",
        "- Automatically perform operations such as:\n",
        "     + boxplot and histogram for a continous variable\n",
        "     + Measure missing values\n",
        "     + Calculate frequency if it's categorical variable\n",
        "- Generate an interactive HTML report containing statistical data on each feature.\n",
        "\n",
        "![fig_prof](https://skappal7.files.wordpress.com/2019/07/eda-cycle.jpg?w=748)\n",
        "Image Source: Sunil Kappal"
      ]
    },
    {
      "cell_type": "code",
      "execution_count": null,
      "metadata": {
        "id": "hVWWvNKcEOPE"
      },
      "outputs": [],
      "source": [
        "import pandas_profiling\n",
        "pandas_profiling.ProfileReport(boston_pd)"
      ]
    },
    {
      "cell_type": "markdown",
      "metadata": {
        "id": "d8b4yr9dEOPE"
      },
      "source": [
        "----"
      ]
    },
    {
      "cell_type": "markdown",
      "metadata": {
        "id": "t2_fGQbnEOPE"
      },
      "source": [
        "## <font color=\"red\">Exercise</font>\n",
        "\n",
        "Visit the <a href=\"https://archive.ics.uci.edu/ml/datasets.php\">UCI Machine Learning Repository</a> or the <a href=\"http://www.ee.columbia.edu/~cylin/course/bigdata/getdatasetinfo.html\">Columbia University Big Data Analytics</a> to select a dataset you want to perform EDA on.\n",
        "\n",
        "An alternative is to Perform EDA on the automobile price dataset which description is available at the <a href=\"https://archive.ics.uci.edu/ml/datasets/automobile\">UCI Machine Learning Repository</a>.\n",
        "- You may want to follow the link: <a href=\"https://www.kaggle.com/toramky/eda-for-automobile-dataset\">kaggle.com</a>"
      ]
    },
    {
      "cell_type": "code",
      "execution_count": null,
      "metadata": {
        "id": "5auEhjGtEOPE"
      },
      "outputs": [],
      "source": [
        "url = 'https://raw.githubusercontent.com/StephenElston/ExploringDataWithPython/master/PlottingWithPytonTools/Automobile%20price%20data.csv'\n",
        "import pandas as pd\n",
        "automobile = pd.read_csv(url)"
      ]
    },
    {
      "cell_type": "markdown",
      "metadata": {
        "id": "wDchl5qgEOPE"
      },
      "source": [
        "----"
      ]
    },
    {
      "cell_type": "code",
      "execution_count": null,
      "metadata": {
        "id": "-ywTHDpHEOPE"
      },
      "outputs": [],
      "source": []
    }
  ],
  "metadata": {
    "anaconda-cloud": {},
    "kernelspec": {
      "display_name": "Python 3 (ipykernel)",
      "language": "python",
      "name": "python3"
    },
    "language_info": {
      "codemirror_mode": {
        "name": "ipython",
        "version": 3
      },
      "file_extension": ".py",
      "mimetype": "text/x-python",
      "name": "python",
      "nbconvert_exporter": "python",
      "pygments_lexer": "ipython3",
      "version": "3.8.8"
    },
    "colab": {
      "provenance": [],
      "include_colab_link": true
    }
  },
  "nbformat": 4,
  "nbformat_minor": 0
}